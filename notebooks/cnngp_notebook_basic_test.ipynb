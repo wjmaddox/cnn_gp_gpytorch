{
 "cells": [
  {
   "cell_type": "code",
   "execution_count": 1,
   "metadata": {},
   "outputs": [
    {
     "name": "stdout",
     "output_type": "stream",
     "text": [
      "Automatic pdb calling has been turned ON\n"
     ]
    }
   ],
   "source": [
    "import gpytorch\n",
    "import torch\n",
    "\n",
    "import cnn_gp\n",
    "%pdb"
   ]
  },
  {
   "cell_type": "code",
   "execution_count": 19,
   "metadata": {},
   "outputs": [
    {
     "data": {
      "text/plain": [
       "'1.0.1'"
      ]
     },
     "execution_count": 19,
     "metadata": {},
     "output_type": "execute_result"
    }
   ],
   "source": [
    "gpytorch.__version__"
   ]
  },
  {
   "cell_type": "code",
   "execution_count": 2,
   "metadata": {},
   "outputs": [],
   "source": [
    "import sys\n",
    "sys.path.append('..')\n",
    "from kernels.cnn_kernel import CNNGP_Kernel"
   ]
  },
  {
   "cell_type": "code",
   "execution_count": 3,
   "metadata": {},
   "outputs": [],
   "source": [
    "### define model from resnet on mnist\n",
    "in_channels = 1\n",
    "out_channels = 10\n",
    "\n",
    "var_bias = 0.86\n",
    "var_weight = 0.79\n",
    "\n",
    "layers = []\n",
    "for _ in range(7):  # n_layers\n",
    "    layers += [\n",
    "        cnn_gp.Conv2d(kernel_size=7, padding=\"same\", var_weight=var_weight,\n",
    "               var_bias=var_bias),\n",
    "        cnn_gp.ReLU(),\n",
    "    ]\n",
    "initial_model = cnn_gp.Sequential(\n",
    "    *layers,\n",
    "    cnn_gp.Conv2d(kernel_size=28, padding=0, var_weight=var_weight,\n",
    "           var_bias=var_bias),\n",
    ")"
   ]
  },
  {
   "cell_type": "code",
   "execution_count": 13,
   "metadata": {},
   "outputs": [],
   "source": [
    "kernel = CNNGP_Kernel(initial_model, shape=(1, 28, 28), batch_shape=torch.Size((10,)))"
   ]
  },
  {
   "cell_type": "code",
   "execution_count": 14,
   "metadata": {},
   "outputs": [],
   "source": [
    "random_data = torch.rand(128, 784)"
   ]
  },
  {
   "cell_type": "code",
   "execution_count": 16,
   "metadata": {},
   "outputs": [],
   "source": [
    "test_dist = gpytorch.distributions.MultivariateNormal(torch.zeros(10, 128), \n",
    "                                                      kernel(random_data))"
   ]
  },
  {
   "cell_type": "code",
   "execution_count": 21,
   "metadata": {},
   "outputs": [
    {
     "data": {
      "text/plain": [
       "torch.Size([3, 10, 128])"
      ]
     },
     "execution_count": 21,
     "metadata": {},
     "output_type": "execute_result"
    }
   ],
   "source": [
    "test_dist.rsample(torch.Size((3,))).shape"
   ]
  },
  {
   "cell_type": "code",
   "execution_count": null,
   "metadata": {},
   "outputs": [],
   "source": []
  }
 ],
 "metadata": {
  "kernelspec": {
   "display_name": "Python 3",
   "language": "python",
   "name": "python3"
  },
  "language_info": {
   "codemirror_mode": {
    "name": "ipython",
    "version": 3
   },
   "file_extension": ".py",
   "mimetype": "text/x-python",
   "name": "python",
   "nbconvert_exporter": "python",
   "pygments_lexer": "ipython3",
   "version": "3.7.4"
  }
 },
 "nbformat": 4,
 "nbformat_minor": 2
}
