{
 "cells": [
  {
   "cell_type": "code",
   "execution_count": 1,
   "metadata": {},
   "outputs": [],
   "source": [
    "import gpytorch\n",
    "import torch\n",
    "\n",
    "import cnn_gp"
   ]
  },
  {
   "cell_type": "code",
   "execution_count": 2,
   "metadata": {},
   "outputs": [],
   "source": [
    "import torchvision"
   ]
  },
  {
   "cell_type": "code",
   "execution_count": 3,
   "metadata": {},
   "outputs": [],
   "source": [
    "import sys\n",
    "sys.path.append('..')\n",
    "from kernels.cnn_kernel import CNNGP_Kernel"
   ]
  },
  {
   "cell_type": "code",
   "execution_count": 4,
   "metadata": {},
   "outputs": [],
   "source": [
    "### load dataset\n",
    "mnist = torchvision.datasets.MNIST('/home/wesley/Documents/datasets/', download=True, \n",
    "                                   transform=torchvision.transforms.ToTensor())"
   ]
  },
  {
   "cell_type": "code",
   "execution_count": 5,
   "metadata": {},
   "outputs": [],
   "source": [
    "### construct training and test datasets (batched for now)\n",
    "\n",
    "iter_data_loader = iter(torch.utils.data.DataLoader(mnist, batch_size = 128))\n",
    "\n",
    "inputs, targets = next(iter_data_loader)\n",
    "targets = targets.float()\n",
    "\n",
    "if torch.cuda.is_available():\n",
    "    inputs, targets = inputs.cuda(), targets.cuda()\n",
    "    \n",
    "test_inputs, test_targets = next(iter_data_loader)\n",
    "test_targets = test_targets.float()\n",
    "\n",
    "if torch.cuda.is_available():\n",
    "    test_inputs, test_targets = test_inputs.cuda(), test_targets.cuda()"
   ]
  },
  {
   "cell_type": "code",
   "execution_count": 6,
   "metadata": {},
   "outputs": [],
   "source": [
    "### define model from resnet on mnist\n",
    "in_channels = 1\n",
    "out_channels = 10\n",
    "\n",
    "var_bias = 0.86\n",
    "var_weight = 0.79\n",
    "\n",
    "layers = []\n",
    "for _ in range(7):  # n_layers\n",
    "    layers += [\n",
    "        cnn_gp.Conv2d(kernel_size=7, padding=\"same\", var_weight=var_weight,\n",
    "               var_bias=var_bias),\n",
    "        cnn_gp.ReLU(),\n",
    "    ]\n",
    "initial_model = cnn_gp.Sequential(\n",
    "    *layers,\n",
    "    cnn_gp.Conv2d(kernel_size=28, padding=0, var_weight=var_weight,\n",
    "           var_bias=var_bias),\n",
    ")"
   ]
  },
  {
   "cell_type": "code",
   "execution_count": 7,
   "metadata": {},
   "outputs": [],
   "source": [
    "class DPClassificationModel(gpytorch.models.ExactGP):\n",
    "    def __init__(self, cnn_model, input_shape, train_x, train_y, alpha_epsilon = 0.01):\n",
    "        num_classes = train_y.max() + 1\n",
    "        \n",
    "        # set alpha = \\alpha_\\epsilon\n",
    "        alpha = alpha_epsilon * torch.ones(train_x.shape[-2], num_classes, \n",
    "                                           device = train_x.device, dtype = train_x.dtype)\n",
    "        \n",
    "        # alpha[class_labels] = 1 + \\alpha_\\epsilon\n",
    "        alpha[torch.arange(len(train_x)), train_y] = alpha[torch.arange(len(train_x)), train_y] + 1.\n",
    "        \n",
    "        # sigma^2 = log(1 / alpha + 1)\n",
    "        sigma2_i = torch.log(1 / alpha + 1.)\n",
    "        \n",
    "        # y = log(alpha) - 0.5 * sigma^2\n",
    "        transformed_targets = alpha.log() - 0.5 * sigma2_i\n",
    "        \n",
    "        likelihood = gpytorch.likelihoods.FixedNoiseGaussianLikelihood(sigma2_i.t(), learn_additional_noise= True)\n",
    "        \n",
    "        super(DPClassificationModel, self).__init__(train_x, transformed_targets.t(), likelihood)\n",
    "        self.transformed_targets = transformed_targets\n",
    "        \n",
    "        self.mean_module = gpytorch.means.ConstantMean(batch_shape=torch.Size((num_classes,)))\n",
    "        self.covar_module = CNNGP_Kernel(cnn_model, input_shape, batch_shape=torch.Size((num_classes,)))\n",
    "        \n",
    "        self.likelihood = likelihood\n",
    "    \n",
    "    def forward(self, x):\n",
    "        mean = self.mean_module(x)\n",
    "        covar = self.covar_module(x)\n",
    "        return gpytorch.distributions.MultivariateNormal(mean, covar)"
   ]
  },
  {
   "cell_type": "code",
   "execution_count": 8,
   "metadata": {
    "scrolled": true
   },
   "outputs": [],
   "source": [
    "### define model\n",
    "### TODO: check that our 2d reshaping is reasonable\n",
    "\n",
    "#ikelihood = gpytorch.likelihoods.GaussianLikelihood()\n",
    "model = DPClassificationModel(initial_model, (1, 28, 28), train_x = inputs.view(inputs.shape[0], 28*28), \n",
    "                              train_y=targets.long())\n",
    "likelihood = model.likelihood\n",
    "\n",
    "if torch.cuda.is_available():\n",
    "    likelihood = likelihood.cuda()\n",
    "    model = model.cuda()"
   ]
  },
  {
   "cell_type": "code",
   "execution_count": 9,
   "metadata": {},
   "outputs": [
    {
     "name": "stdout",
     "output_type": "stream",
     "text": [
      "Automatic pdb calling has been turned ON\n"
     ]
    }
   ],
   "source": [
    "%pdb"
   ]
  },
  {
   "cell_type": "code",
   "execution_count": 10,
   "metadata": {},
   "outputs": [
    {
     "data": {
      "text/plain": [
       "torch.Size([128, 784])"
      ]
     },
     "execution_count": 10,
     "metadata": {},
     "output_type": "execute_result"
    }
   ],
   "source": [
    "model.train_inputs[0].shape"
   ]
  },
  {
   "cell_type": "code",
   "execution_count": 11,
   "metadata": {},
   "outputs": [
    {
     "name": "stderr",
     "output_type": "stream",
     "text": [
      "/home/wesley/Documents/Code/gpytorch/gpytorch/utils/cholesky.py:43: RuntimeWarning: A not p.d., added jitter of 9.999999999999999e-06 to the diagonal\n",
      "  warnings.warn(f\"A not p.d., added jitter of {jitter_new} to the diagonal\", RuntimeWarning)\n"
     ]
    },
    {
     "data": {
      "text/plain": [
       "tensor([[-0.3340, -0.3417, -0.3283,  ..., -0.3283, -0.3369, -0.3324],\n",
       "        [ 0.8561,  0.8603,  0.8447,  ...,  0.8472,  0.8383,  0.8488],\n",
       "        [-0.8619, -0.8622, -0.8483,  ..., -0.8499, -0.8484, -0.8495],\n",
       "        ...,\n",
       "        [ 0.1194,  0.1170,  0.1110,  ...,  0.1206,  0.1083,  0.1112],\n",
       "        [-2.2980, -2.2827, -2.3017,  ..., -2.2921, -2.2944, -2.2938],\n",
       "        [ 1.2592,  1.2544,  1.2709,  ...,  1.2519,  1.2423,  1.2565]],\n",
       "       device='cuda:0', grad_fn=<ViewBackward>)"
      ]
     },
     "execution_count": 11,
     "metadata": {},
     "output_type": "execute_result"
    }
   ],
   "source": [
    "model(inputs.view(inputs.shape[0], 28*28)).rsample()"
   ]
  },
  {
   "cell_type": "code",
   "execution_count": 12,
   "metadata": {},
   "outputs": [],
   "source": [
    "from botorch.optim.fit import fit_gpytorch_torch"
   ]
  },
  {
   "cell_type": "code",
   "execution_count": 13,
   "metadata": {},
   "outputs": [
    {
     "name": "stdout",
     "output_type": "stream",
     "text": [
      "Iter 10/1000: 26.3676700592041\n",
      "Iter 20/1000: 24.937366485595703\n",
      "Iter 30/1000: 24.218128204345703\n",
      "Iter 40/1000: 23.868453979492188\n",
      "Iter 50/1000: 23.693965911865234\n",
      "Iter 60/1000: 23.605567932128906\n",
      "Iter 70/1000: 23.56092071533203\n",
      "Iter 80/1000: 23.53842544555664\n",
      "Iter 90/1000: 23.526880264282227\n",
      "Iter 100/1000: 23.520675659179688\n",
      "Iter 110/1000: 23.51714324951172\n",
      "Iter 120/1000: 23.51503562927246\n",
      "Iter 130/1000: 23.513748168945312\n",
      "Iter 140/1000: 23.51296615600586\n",
      "Iter 150/1000: 23.512489318847656\n",
      "Iter 160/1000: 23.512208938598633\n",
      "Iter 170/1000: 23.512042999267578\n",
      "Iter 180/1000: 23.511947631835938\n",
      "Iter 190/1000: 23.511890411376953\n"
     ]
    },
    {
     "data": {
      "text/plain": [
       "(ExactMarginalLogLikelihood(\n",
       "   (likelihood): FixedNoiseGaussianLikelihood(\n",
       "     (noise_covar): FixedGaussianNoise()\n",
       "     (second_noise_covar): HomoskedasticNoise(\n",
       "       (raw_noise_constraint): GreaterThan(1.000E-04)\n",
       "     )\n",
       "   )\n",
       "   (model): DPClassificationModel(\n",
       "     (likelihood): FixedNoiseGaussianLikelihood(\n",
       "       (noise_covar): FixedGaussianNoise()\n",
       "       (second_noise_covar): HomoskedasticNoise(\n",
       "         (raw_noise_constraint): GreaterThan(1.000E-04)\n",
       "       )\n",
       "     )\n",
       "     (mean_module): ConstantMean()\n",
       "     (covar_module): CNNGP_Kernel(\n",
       "       (model): Sequential(\n",
       "         (0): Conv2d()\n",
       "         (1): ReLU()\n",
       "         (2): Conv2d()\n",
       "         (3): ReLU()\n",
       "         (4): Conv2d()\n",
       "         (5): ReLU()\n",
       "         (6): Conv2d()\n",
       "         (7): ReLU()\n",
       "         (8): Conv2d()\n",
       "         (9): ReLU()\n",
       "         (10): Conv2d()\n",
       "         (11): ReLU()\n",
       "         (12): Conv2d()\n",
       "         (13): ReLU()\n",
       "         (14): Conv2d()\n",
       "       )\n",
       "     )\n",
       "   )\n",
       " ),\n",
       " {'fopt': 23.511878967285156,\n",
       "  'wall_time': 20.668388605117798,\n",
       "  'iterations': [OptimizationIteration(itr=0, fun=28.418550491333008, time=0.1257002353668213),\n",
       "   OptimizationIteration(itr=1, fun=28.163206100463867, time=0.2409358024597168),\n",
       "   OptimizationIteration(itr=2, fun=27.912845611572266, time=0.3491067886352539),\n",
       "   OptimizationIteration(itr=3, fun=27.668426513671875, time=0.45543599128723145),\n",
       "   OptimizationIteration(itr=4, fun=27.43081283569336, time=0.5607786178588867),\n",
       "   OptimizationIteration(itr=5, fun=27.20077133178711, time=0.6662170886993408),\n",
       "   OptimizationIteration(itr=6, fun=26.97895622253418, time=0.7716944217681885),\n",
       "   OptimizationIteration(itr=7, fun=26.765911102294922, time=0.8772306442260742),\n",
       "   OptimizationIteration(itr=8, fun=26.562049865722656, time=0.9826769828796387),\n",
       "   OptimizationIteration(itr=9, fun=26.3676700592041, time=1.0885462760925293),\n",
       "   OptimizationIteration(itr=10, fun=26.182947158813477, time=1.195305585861206),\n",
       "   OptimizationIteration(itr=11, fun=26.00794219970703, time=1.3011021614074707),\n",
       "   OptimizationIteration(itr=12, fun=25.842618942260742, time=1.4143216609954834),\n",
       "   OptimizationIteration(itr=13, fun=25.686851501464844, time=1.5203986167907715),\n",
       "   OptimizationIteration(itr=14, fun=25.540428161621094, time=1.6263494491577148),\n",
       "   OptimizationIteration(itr=15, fun=25.403078079223633, time=1.732100486755371),\n",
       "   OptimizationIteration(itr=16, fun=25.27447509765625, time=1.8376731872558594),\n",
       "   OptimizationIteration(itr=17, fun=25.154253005981445, time=1.9430286884307861),\n",
       "   OptimizationIteration(itr=18, fun=25.042022705078125, time=2.048427104949951),\n",
       "   OptimizationIteration(itr=19, fun=24.937366485595703, time=2.1542153358459473),\n",
       "   OptimizationIteration(itr=20, fun=24.839866638183594, time=2.2597522735595703),\n",
       "   OptimizationIteration(itr=21, fun=24.749103546142578, time=2.366093397140503),\n",
       "   OptimizationIteration(itr=22, fun=24.664653778076172, time=2.4763078689575195),\n",
       "   OptimizationIteration(itr=23, fun=24.58611297607422, time=2.5816609859466553),\n",
       "   OptimizationIteration(itr=24, fun=24.513086318969727, time=2.687060594558716),\n",
       "   OptimizationIteration(itr=25, fun=24.44519805908203, time=2.7924423217773438),\n",
       "   OptimizationIteration(itr=26, fun=24.38208770751953, time=2.8978774547576904),\n",
       "   OptimizationIteration(itr=27, fun=24.323415756225586, time=3.0032811164855957),\n",
       "   OptimizationIteration(itr=28, fun=24.268861770629883, time=3.109079122543335),\n",
       "   OptimizationIteration(itr=29, fun=24.218128204345703, time=3.215059518814087),\n",
       "   OptimizationIteration(itr=30, fun=24.170936584472656, time=3.320667266845703),\n",
       "   OptimizationIteration(itr=31, fun=24.127025604248047, time=3.4269609451293945),\n",
       "   OptimizationIteration(itr=32, fun=24.086156845092773, time=3.5351810455322266),\n",
       "   OptimizationIteration(itr=33, fun=24.04810333251953, time=3.6406753063201904),\n",
       "   OptimizationIteration(itr=34, fun=24.01266098022461, time=3.7461135387420654),\n",
       "   OptimizationIteration(itr=35, fun=23.979642868041992, time=3.851496458053589),\n",
       "   OptimizationIteration(itr=36, fun=23.948867797851562, time=3.956908941268921),\n",
       "   OptimizationIteration(itr=37, fun=23.92017364501953, time=4.062344312667847),\n",
       "   OptimizationIteration(itr=38, fun=23.893417358398438, time=4.167800664901733),\n",
       "   OptimizationIteration(itr=39, fun=23.868453979492188, time=4.273572683334351),\n",
       "   OptimizationIteration(itr=40, fun=23.84516143798828, time=4.379130125045776),\n",
       "   OptimizationIteration(itr=41, fun=23.82341957092285, time=4.485529899597168),\n",
       "   OptimizationIteration(itr=42, fun=23.80312156677246, time=4.5945885181427),\n",
       "   OptimizationIteration(itr=43, fun=23.784168243408203, time=4.700461149215698),\n",
       "   OptimizationIteration(itr=44, fun=23.766464233398438, time=4.806004524230957),\n",
       "   OptimizationIteration(itr=45, fun=23.74993133544922, time=4.9114720821380615),\n",
       "   OptimizationIteration(itr=46, fun=23.73448371887207, time=5.016946077346802),\n",
       "   OptimizationIteration(itr=47, fun=23.72005271911621, time=5.122482776641846),\n",
       "   OptimizationIteration(itr=48, fun=23.706567764282227, time=5.227997779846191),\n",
       "   OptimizationIteration(itr=49, fun=23.693965911865234, time=5.333744525909424),\n",
       "   OptimizationIteration(itr=50, fun=23.682193756103516, time=5.439153671264648),\n",
       "   OptimizationIteration(itr=51, fun=23.67119026184082, time=5.545438528060913),\n",
       "   OptimizationIteration(itr=52, fun=23.660911560058594, time=5.654966831207275),\n",
       "   OptimizationIteration(itr=53, fun=23.651304244995117, time=5.7604382038116455),\n",
       "   OptimizationIteration(itr=54, fun=23.642330169677734, time=5.8658788204193115),\n",
       "   OptimizationIteration(itr=55, fun=23.633943557739258, time=5.971314430236816),\n",
       "   OptimizationIteration(itr=56, fun=23.626108169555664, time=6.076721668243408),\n",
       "   OptimizationIteration(itr=57, fun=23.618789672851562, time=6.182182312011719),\n",
       "   OptimizationIteration(itr=58, fun=23.611953735351562, time=6.287583351135254),\n",
       "   OptimizationIteration(itr=59, fun=23.605567932128906, time=6.393342971801758),\n",
       "   OptimizationIteration(itr=60, fun=23.599605560302734, time=6.498995065689087),\n",
       "   OptimizationIteration(itr=61, fun=23.594036102294922, time=6.605658769607544),\n",
       "   OptimizationIteration(itr=62, fun=23.588836669921875, time=6.714590072631836),\n",
       "   OptimizationIteration(itr=63, fun=23.583980560302734, time=6.82054877281189),\n",
       "   OptimizationIteration(itr=64, fun=23.579448699951172, time=6.92637825012207),\n",
       "   OptimizationIteration(itr=65, fun=23.57521629333496, time=7.032221794128418),\n",
       "   OptimizationIteration(itr=66, fun=23.571266174316406, time=7.13808798789978),\n",
       "   OptimizationIteration(itr=67, fun=23.567577362060547, time=7.244244575500488),\n",
       "   OptimizationIteration(itr=68, fun=23.564132690429688, time=7.350102663040161),\n",
       "   OptimizationIteration(itr=69, fun=23.56092071533203, time=7.456051826477051),\n",
       "   OptimizationIteration(itr=70, fun=23.557918548583984, time=7.56207537651062),\n",
       "   OptimizationIteration(itr=71, fun=23.555118560791016, time=7.66856575012207),\n",
       "   OptimizationIteration(itr=72, fun=23.552501678466797, time=7.7761945724487305),\n",
       "   OptimizationIteration(itr=73, fun=23.550058364868164, time=7.882195711135864),\n",
       "   OptimizationIteration(itr=74, fun=23.547775268554688, time=7.987990856170654),\n",
       "   OptimizationIteration(itr=75, fun=23.54564666748047, time=8.093740224838257),\n",
       "   OptimizationIteration(itr=76, fun=23.54365348815918, time=8.199762105941772),\n",
       "   OptimizationIteration(itr=77, fun=23.541793823242188, time=8.305571794509888),\n",
       "   OptimizationIteration(itr=78, fun=23.540050506591797, time=8.411298751831055),\n",
       "   OptimizationIteration(itr=79, fun=23.53842544555664, time=8.517350435256958),\n",
       "   OptimizationIteration(itr=80, fun=23.536903381347656, time=8.623105525970459),\n",
       "   OptimizationIteration(itr=81, fun=23.535478591918945, time=8.729663372039795),\n",
       "   OptimizationIteration(itr=82, fun=23.53414535522461, time=8.83858036994934),\n",
       "   OptimizationIteration(itr=83, fun=23.53289794921875, time=8.94441294670105),\n",
       "   OptimizationIteration(itr=84, fun=23.531726837158203, time=9.050188541412354),\n",
       "   OptimizationIteration(itr=85, fun=23.530630111694336, time=9.156031608581543),\n",
       "   OptimizationIteration(itr=86, fun=23.529603958129883, time=9.261929988861084),\n",
       "   OptimizationIteration(itr=87, fun=23.528636932373047, time=9.367764711380005),\n",
       "   OptimizationIteration(itr=88, fun=23.527732849121094, time=9.473677635192871),\n",
       "   OptimizationIteration(itr=89, fun=23.526880264282227, time=9.579841613769531),\n",
       "   OptimizationIteration(itr=90, fun=23.526081085205078, time=9.685805559158325),\n",
       "   OptimizationIteration(itr=91, fun=23.525327682495117, time=9.792468070983887),\n",
       "   OptimizationIteration(itr=92, fun=23.52461814880371, time=9.90036654472351),\n",
       "   OptimizationIteration(itr=93, fun=23.52395248413086, time=10.006299495697021),\n",
       "   OptimizationIteration(itr=94, fun=23.523324966430664, time=10.113558530807495),\n",
       "   OptimizationIteration(itr=95, fun=23.52273178100586, time=10.219958066940308),\n",
       "   OptimizationIteration(itr=96, fun=23.522174835205078, time=10.325976133346558),\n",
       "   OptimizationIteration(itr=97, fun=23.521644592285156, time=10.43186330795288),\n",
       "   OptimizationIteration(itr=98, fun=23.521146774291992, time=10.537674188613892),\n",
       "   OptimizationIteration(itr=99, fun=23.520675659179688, time=10.643771648406982),\n",
       "   OptimizationIteration(itr=100, fun=23.520231246948242, time=10.749672412872314),\n",
       "   OptimizationIteration(itr=101, fun=23.51980972290039, time=10.856446027755737),\n",
       "   OptimizationIteration(itr=102, fun=23.5194091796875, time=10.96530532836914),\n",
       "   OptimizationIteration(itr=103, fun=23.519031524658203, time=11.071260213851929),\n",
       "   OptimizationIteration(itr=104, fun=23.518672943115234, time=11.177207231521606),\n",
       "   OptimizationIteration(itr=105, fun=23.518335342407227, time=11.283047676086426),\n",
       "   OptimizationIteration(itr=106, fun=23.51801300048828, time=11.388798713684082),\n",
       "   OptimizationIteration(itr=107, fun=23.51770782470703, time=11.494925260543823),\n",
       "   OptimizationIteration(itr=108, fun=23.517417907714844, time=11.60106348991394),\n",
       "   OptimizationIteration(itr=109, fun=23.51714324951172, time=11.707327842712402),\n",
       "   OptimizationIteration(itr=110, fun=23.51688003540039, time=11.813369989395142),\n",
       "   OptimizationIteration(itr=111, fun=23.516632080078125, time=11.920079946517944),\n",
       "   OptimizationIteration(itr=112, fun=23.516393661499023, time=12.027240514755249),\n",
       "   OptimizationIteration(itr=113, fun=23.516170501708984, time=12.13335633277893),\n",
       "   OptimizationIteration(itr=114, fun=23.51595687866211, time=12.239234447479248),\n",
       "   OptimizationIteration(itr=115, fun=23.51575469970703, time=12.345036268234253),\n",
       "   OptimizationIteration(itr=116, fun=23.515560150146484, time=12.450855493545532),\n",
       "   OptimizationIteration(itr=117, fun=23.5153751373291, time=12.556610822677612),\n",
       "   OptimizationIteration(itr=118, fun=23.515201568603516, time=12.66260838508606),\n",
       "   OptimizationIteration(itr=119, fun=23.51503562927246, time=12.768812656402588),\n",
       "   OptimizationIteration(itr=120, fun=23.514875411987305, time=12.874671936035156),\n",
       "   OptimizationIteration(itr=121, fun=23.514724731445312, time=12.981550455093384),\n",
       "   OptimizationIteration(itr=122, fun=23.51458168029785, time=13.091450214385986),\n",
       "   OptimizationIteration(itr=123, fun=23.51444435119629, time=13.197624206542969),\n",
       "   OptimizationIteration(itr=124, fun=23.514312744140625, time=13.303833484649658),\n",
       "   OptimizationIteration(itr=125, fun=23.514188766479492, time=13.409928560256958),\n",
       "   OptimizationIteration(itr=126, fun=23.51407241821289, time=13.515821695327759),\n",
       "   OptimizationIteration(itr=127, fun=23.513957977294922, time=13.621639013290405),\n",
       "   OptimizationIteration(itr=128, fun=23.513851165771484, time=13.727471113204956),\n",
       "   OptimizationIteration(itr=129, fun=23.513748168945312, time=13.833646297454834),\n",
       "   OptimizationIteration(itr=130, fun=23.513652801513672, time=13.939507484436035),\n",
       "   OptimizationIteration(itr=131, fun=23.513559341430664, time=14.04621958732605),\n",
       "   OptimizationIteration(itr=132, fun=23.513473510742188, time=14.155300378799438),\n",
       "   OptimizationIteration(itr=133, fun=23.513389587402344, time=14.261433124542236),\n",
       "   OptimizationIteration(itr=134, fun=23.513309478759766, time=14.367608785629272),\n",
       "   OptimizationIteration(itr=135, fun=23.513233184814453, time=14.473519325256348),\n",
       "   OptimizationIteration(itr=136, fun=23.513160705566406, time=14.579378843307495),\n",
       "   OptimizationIteration(itr=137, fun=23.513092041015625, time=14.685300350189209),\n",
       "   OptimizationIteration(itr=138, fun=23.513029098510742, time=14.791260242462158),\n",
       "   OptimizationIteration(itr=139, fun=23.51296615600586, time=14.897355318069458),\n",
       "   OptimizationIteration(itr=140, fun=23.512907028198242, time=15.003168106079102),\n",
       "   OptimizationIteration(itr=141, fun=23.512849807739258, time=15.11003851890564),\n",
       "   OptimizationIteration(itr=142, fun=23.512798309326172, time=15.219747304916382),\n",
       "   OptimizationIteration(itr=143, fun=23.51274871826172, time=15.325699806213379),\n",
       "   OptimizationIteration(itr=144, fun=23.512699127197266, time=15.431497573852539),\n",
       "   OptimizationIteration(itr=145, fun=23.512653350830078, time=15.537332773208618),\n",
       "   OptimizationIteration(itr=146, fun=23.512609481811523, time=15.643107175827026),\n",
       "   OptimizationIteration(itr=147, fun=23.5125675201416, time=15.74891471862793),\n",
       "   OptimizationIteration(itr=148, fun=23.512531280517578, time=15.854750156402588),\n",
       "   OptimizationIteration(itr=149, fun=23.512489318847656, time=15.9607675075531),\n",
       "   OptimizationIteration(itr=150, fun=23.512454986572266, time=16.06660532951355),\n",
       "   OptimizationIteration(itr=151, fun=23.51242446899414, time=16.173569679260254),\n",
       "   OptimizationIteration(itr=152, fun=23.512392044067383, time=16.283273458480835),\n",
       "   OptimizationIteration(itr=153, fun=23.512361526489258, time=16.389147996902466),\n",
       "   OptimizationIteration(itr=154, fun=23.512331008911133, time=16.495010375976562),\n",
       "   OptimizationIteration(itr=155, fun=23.512304306030273, time=16.60102939605713),\n",
       "   OptimizationIteration(itr=156, fun=23.512279510498047, time=16.706738710403442),\n",
       "   OptimizationIteration(itr=157, fun=23.512252807617188, time=16.81253409385681),\n",
       "   OptimizationIteration(itr=158, fun=23.512229919433594, time=16.918320417404175),\n",
       "   OptimizationIteration(itr=159, fun=23.512208938598633, time=17.024439811706543),\n",
       "   OptimizationIteration(itr=160, fun=23.51218605041504, time=17.130404233932495),\n",
       "   OptimizationIteration(itr=161, fun=23.512168884277344, time=17.2375705242157),\n",
       "   OptimizationIteration(itr=162, fun=23.512149810791016, time=17.352213621139526),\n",
       "   OptimizationIteration(itr=163, fun=23.512130737304688, time=17.460075855255127),\n",
       "   OptimizationIteration(itr=164, fun=23.512115478515625, time=17.565977573394775),\n",
       "   OptimizationIteration(itr=165, fun=23.51209831237793, time=17.671773672103882),\n",
       "   OptimizationIteration(itr=166, fun=23.5120849609375, time=17.777596712112427),\n",
       "   OptimizationIteration(itr=167, fun=23.51207160949707, time=17.883363008499146),\n",
       "   OptimizationIteration(itr=168, fun=23.512056350708008, time=17.98914074897766),\n",
       "   OptimizationIteration(itr=169, fun=23.512042999267578, time=18.095272302627563),\n",
       "   OptimizationIteration(itr=170, fun=23.51203155517578, time=18.201470375061035),\n",
       "   OptimizationIteration(itr=171, fun=23.51201820373535, time=18.30868148803711),\n",
       "   OptimizationIteration(itr=172, fun=23.512008666992188, time=18.42333674430847),\n",
       "   OptimizationIteration(itr=173, fun=23.51199722290039, time=18.531251907348633),\n",
       "   OptimizationIteration(itr=174, fun=23.511985778808594, time=18.637238264083862),\n",
       "   OptimizationIteration(itr=175, fun=23.511980056762695, time=18.743109941482544),\n",
       "   OptimizationIteration(itr=176, fun=23.51197052001953, time=18.848935842514038),\n",
       "   OptimizationIteration(itr=177, fun=23.511962890625, time=18.95483422279358),\n",
       "   OptimizationIteration(itr=178, fun=23.511953353881836, time=19.060657262802124),\n",
       "   OptimizationIteration(itr=179, fun=23.511947631835938, time=19.1668062210083),\n",
       "   OptimizationIteration(itr=180, fun=23.511940002441406, time=19.27274203300476),\n",
       "   OptimizationIteration(itr=181, fun=23.511932373046875, time=19.379703044891357),\n",
       "   OptimizationIteration(itr=182, fun=23.511926651000977, time=19.488750219345093),\n",
       "   OptimizationIteration(itr=183, fun=23.511920928955078, time=19.59617805480957),\n",
       "   OptimizationIteration(itr=184, fun=23.51191520690918, time=19.702322006225586),\n",
       "   OptimizationIteration(itr=185, fun=23.511911392211914, time=19.80817174911499),\n",
       "   OptimizationIteration(itr=186, fun=23.511905670166016, time=19.914109706878662),\n",
       "   OptimizationIteration(itr=187, fun=23.511899948120117, time=20.02001690864563),\n",
       "   OptimizationIteration(itr=188, fun=23.51189613342285, time=20.125957489013672),\n",
       "   OptimizationIteration(itr=189, fun=23.511890411376953, time=20.232582092285156),\n",
       "   OptimizationIteration(itr=190, fun=23.511886596679688, time=20.338648796081543),\n",
       "   OptimizationIteration(itr=191, fun=23.511882781982422, time=20.4458429813385),\n",
       "   OptimizationIteration(itr=192, fun=23.511878967285156, time=20.560879230499268),\n",
       "   OptimizationIteration(itr=193, fun=23.511878967285156, time=20.66800808906555)]})"
      ]
     },
     "execution_count": 13,
     "metadata": {},
     "output_type": "execute_result"
    }
   ],
   "source": [
    "### define and fit any free parameters in the model\n",
    "\n",
    "mll = gpytorch.mlls.ExactMarginalLogLikelihood(likelihood, model)\n",
    "fit_gpytorch_torch(mll, options={\"maxiter\": 1000, \"disp\": True, \"lr\": 0.1})"
   ]
  },
  {
   "cell_type": "code",
   "execution_count": 14,
   "metadata": {},
   "outputs": [
    {
     "data": {
      "text/plain": [
       "FixedNoiseGaussianLikelihood(\n",
       "  (noise_covar): FixedGaussianNoise()\n",
       "  (second_noise_covar): HomoskedasticNoise(\n",
       "    (raw_noise_constraint): GreaterThan(1.000E-04)\n",
       "  )\n",
       ")"
      ]
     },
     "execution_count": 14,
     "metadata": {},
     "output_type": "execute_result"
    }
   ],
   "source": [
    "### set to test mode\n",
    "\n",
    "model.eval()\n",
    "likelihood.eval()"
   ]
  },
  {
   "cell_type": "code",
   "execution_count": 15,
   "metadata": {},
   "outputs": [
    {
     "data": {
      "text/plain": [
       "torch.Size([128, 1, 28, 28])"
      ]
     },
     "execution_count": 15,
     "metadata": {},
     "output_type": "execute_result"
    }
   ],
   "source": [
    "test_inputs.shape"
   ]
  },
  {
   "cell_type": "code",
   "execution_count": 16,
   "metadata": {},
   "outputs": [
    {
     "data": {
      "text/plain": [
       "torch.Size([128, 1, 28, 28])"
      ]
     },
     "execution_count": 16,
     "metadata": {},
     "output_type": "execute_result"
    }
   ],
   "source": [
    "inputs.shape"
   ]
  },
  {
   "cell_type": "code",
   "execution_count": 17,
   "metadata": {},
   "outputs": [],
   "source": [
    "test_preds = model(test_inputs.view(test_inputs.shape[0], 28*28))"
   ]
  },
  {
   "cell_type": "code",
   "execution_count": 18,
   "metadata": {},
   "outputs": [
    {
     "data": {
      "text/plain": [
       "tensor([[-5.4599, -5.4597, -5.4597,  ..., -5.4596, -5.4595, -5.4596],\n",
       "        [-5.3144, -5.3147, -5.3146,  ..., -5.3148, -5.3147, -5.3147],\n",
       "        [-6.0704, -6.0704, -6.0704,  ..., -6.0703, -6.0704, -6.0704],\n",
       "        ...,\n",
       "        [-5.8353, -5.8354, -5.8353,  ..., -5.8353, -5.8353, -5.8353],\n",
       "        [-6.1505, -6.1505, -6.1505,  ..., -6.1506, -6.1506, -6.1504],\n",
       "        [-5.8352, -5.8353, -5.8352,  ..., -5.8353, -5.8353, -5.8353]],\n",
       "       device='cuda:0', grad_fn=<ViewBackward>)"
      ]
     },
     "execution_count": 18,
     "metadata": {},
     "output_type": "execute_result"
    }
   ],
   "source": [
    "test_preds.mean"
   ]
  },
  {
   "cell_type": "code",
   "execution_count": 30,
   "metadata": {},
   "outputs": [
    {
     "data": {
      "text/plain": [
       "tensor([-5.4599, -5.3144, -6.0704, -5.8352, -5.8353, -6.3962, -5.8353, -5.8353,\n",
       "        -6.1505, -5.8352], device='cuda:0', grad_fn=<SelectBackward>)"
      ]
     },
     "execution_count": 30,
     "metadata": {},
     "output_type": "execute_result"
    }
   ],
   "source": [
    "test_preds.mean[:,0]"
   ]
  },
  {
   "cell_type": "code",
   "execution_count": 25,
   "metadata": {},
   "outputs": [
    {
     "data": {
      "text/plain": [
       "tensor([1, 1, 1, 1, 1, 1, 1, 1, 1, 1, 1, 1, 1, 1, 1, 1, 1, 1, 1, 1, 1, 1, 1, 1,\n",
       "        1, 1, 1, 1, 1, 1, 1, 1, 1, 1, 1, 1, 1, 1, 1, 1, 1, 1, 1, 1, 1, 1, 1, 1,\n",
       "        1, 1, 1, 1, 1, 1, 1, 1, 1, 1, 1, 1, 1, 1, 1, 1, 1, 1, 1, 1, 1, 1, 1, 1,\n",
       "        1, 1, 1, 1, 1, 1, 1, 1, 1, 1, 1, 1, 1, 1, 1, 1, 1, 1, 1, 1, 1, 1, 1, 1,\n",
       "        1, 1, 1, 1, 1, 1, 1, 1, 1, 1, 1, 1, 1, 1, 1, 1, 1, 1, 1, 1, 1, 1, 1, 1,\n",
       "        1, 1, 1, 1, 1, 1, 1, 1], device='cuda:0')"
      ]
     },
     "execution_count": 25,
     "metadata": {},
     "output_type": "execute_result"
    }
   ],
   "source": [
    "test_preds.mean.argmax(0)"
   ]
  },
  {
   "cell_type": "code",
   "execution_count": 26,
   "metadata": {},
   "outputs": [
    {
     "data": {
      "text/plain": [
       "tensor([1., 6., 3., 4., 5., 9., 1., 3., 3., 8., 5., 4., 7., 7., 4., 2., 8., 5.,\n",
       "        8., 6., 7., 3., 4., 6., 1., 9., 9., 6., 0., 3., 7., 2., 8., 2., 9., 4.,\n",
       "        4., 6., 4., 9., 7., 0., 9., 2., 9., 5., 1., 5., 9., 1., 2., 3., 2., 3.,\n",
       "        5., 9., 1., 7., 6., 2., 8., 2., 2., 5., 0., 7., 4., 9., 7., 8., 3., 2.,\n",
       "        1., 1., 8., 3., 6., 1., 0., 3., 1., 0., 0., 1., 7., 2., 7., 3., 0., 4.,\n",
       "        6., 5., 2., 6., 4., 7., 1., 8., 9., 9., 3., 0., 7., 1., 0., 2., 0., 3.,\n",
       "        5., 4., 6., 5., 8., 6., 3., 7., 5., 8., 0., 9., 1., 0., 3., 1., 2., 2.,\n",
       "        3., 3.], device='cuda:0')"
      ]
     },
     "execution_count": 26,
     "metadata": {},
     "output_type": "execute_result"
    }
   ],
   "source": [
    "test_targets"
   ]
  },
  {
   "cell_type": "code",
   "execution_count": null,
   "metadata": {},
   "outputs": [],
   "source": []
  }
 ],
 "metadata": {
  "kernelspec": {
   "display_name": "Python 3",
   "language": "python",
   "name": "python3"
  },
  "language_info": {
   "codemirror_mode": {
    "name": "ipython",
    "version": 3
   },
   "file_extension": ".py",
   "mimetype": "text/x-python",
   "name": "python",
   "nbconvert_exporter": "python",
   "pygments_lexer": "ipython3",
   "version": "3.7.4"
  }
 },
 "nbformat": 4,
 "nbformat_minor": 2
}
